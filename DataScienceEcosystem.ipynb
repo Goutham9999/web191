{
 "cells": [
  {
   "cell_type": "markdown",
   "id": "45c9b576",
   "metadata": {},
   "source": [
    "# Data Science Tool and Ecosystem\n"
   ]
  },
  {
   "cell_type": "markdown",
   "id": "fd1c1f1a",
   "metadata": {},
   "source": [
    "In the notebook, Data Science Tool and Ecosystem are summarized"
   ]
  },
  {
   "cell_type": "markdown",
   "id": "1640f71b",
   "metadata": {},
   "source": [
    "Some of the popular languages that Data Scientists use are:\n",
    "\n",
    "1. Python\n",
    "2. R\n",
    "3. SQL\n",
    "4. C++\n",
    "5. Java,etc...;"
   ]
  },
  {
   "cell_type": "markdown",
   "id": "f5595756",
   "metadata": {},
   "source": [
    "some of the commonly used libraries used by Data Scientists include:\n",
    "1. Tensortflow.\n",
    "2. Numpy.\n",
    "3. Scipy.\n",
    "4. Pandas.\n",
    "5. Matplotlib.\n",
    "6. Keras.\n",
    "7. Scikit-Learn.\n",
    "8. PyTorch. etc...;"
   ]
  },
  {
   "cell_type": "markdown",
   "id": "cb6c9128",
   "metadata": {},
   "source": [
    "|Data Science Tool|\n",
    "|---|\n",
    "|SAS|\n",
    "|Apache Hadoop|\n",
    "|TensorFlow|"
   ]
  },
  {
   "cell_type": "markdown",
   "id": "39f01669",
   "metadata": {},
   "source": [
    "### Below are a few example of eveluating arthmetic expressions in Python ."
   ]
  },
  {
   "cell_type": "code",
   "execution_count": 5,
   "id": "97ba248b",
   "metadata": {},
   "outputs": [
    {
     "data": {
      "text/plain": [
       "17"
      ]
     },
     "execution_count": 5,
     "metadata": {},
     "output_type": "execute_result"
    }
   ],
   "source": [
    "#this is a common arthimetic example to multiply and then add integers\n",
    "(3*4)+5"
   ]
  },
  {
   "cell_type": "code",
   "execution_count": 6,
   "id": "abc8cd7c",
   "metadata": {},
   "outputs": [
    {
     "data": {
      "text/plain": [
       "3.3333333333333335"
      ]
     },
     "execution_count": 6,
     "metadata": {},
     "output_type": "execute_result"
    }
   ],
   "source": [
    "#This will convert 200 minutes to hours by diving by 60\n",
    "200/60"
   ]
  },
  {
   "cell_type": "markdown",
   "id": "bab5115b",
   "metadata": {},
   "source": [
    "__Objective__\n",
    "* List popular languages for Data Science\n",
    "* List popular libraries for Data Science\n",
    "* List of well known Data Science tool\n",
    "* How to provide comments in the cell"
   ]
  },
  {
   "cell_type": "markdown",
   "id": "8d1ac4f2",
   "metadata": {},
   "source": [
    "## Author\n",
    "Lakshmi Holla\n",
    "\n",
    "Niveditha Pandith"
   ]
  }
 ],
 "metadata": {
  "kernelspec": {
   "display_name": "Python 3 (ipykernel)",
   "language": "python",
   "name": "python3"
  },
  "language_info": {
   "codemirror_mode": {
    "name": "ipython",
    "version": 3
   },
   "file_extension": ".py",
   "mimetype": "text/x-python",
   "name": "python",
   "nbconvert_exporter": "python",
   "pygments_lexer": "ipython3",
   "version": "3.11.4"
  }
 },
 "nbformat": 4,
 "nbformat_minor": 5
}
